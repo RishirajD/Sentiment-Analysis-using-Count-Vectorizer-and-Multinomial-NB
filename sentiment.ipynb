{
 "cells": [
  {
   "cell_type": "code",
   "execution_count": 2,
   "metadata": {},
   "outputs": [],
   "source": [
    "import pandas as pd\n",
    "import numpy as np\n",
    "from sklearn.feature_extraction.text import CountVectorizer, TfidfVectorizer\n",
    "from sklearn.naive_bayes import MultinomialNB\n",
    "from sklearn.model_selection import train_test_split, GridSearchCV\n",
    "from sklearn.metrics import classification_report, confusion_matrix, accuracy_score\n",
    "from sklearn.pipeline import Pipeline"
   ]
  },
  {
   "cell_type": "markdown",
   "metadata": {},
   "source": []
  },
  {
   "cell_type": "code",
   "execution_count": 3,
   "metadata": {},
   "outputs": [
    {
     "name": "stdout",
     "output_type": "stream",
     "text": [
      "Dataset preview:\n",
      "                                                text     label\n",
      "0  im getting on borderlands and i will murder yo...  Positive\n",
      "1  I am coming to the borders and I will kill you...  Positive\n",
      "2  im getting on borderlands and i will kill you ...  Positive\n",
      "3  im coming on borderlands and i will murder you...  Positive\n",
      "4  im getting on borderlands 2 and i will murder ...  Positive\n",
      "\n",
      "Number of null values in text column: 686\n",
      "Dataset shape after removing null values: (73996, 2)\n"
     ]
    }
   ],
   "source": [
    "# Read data\n",
    "data = pd.read_csv(\"twitter.csv\", encoding=\"latin1\")\n",
    "df = pd.DataFrame(data)\n",
    "print(\"Dataset preview:\")\n",
    "print(df.head(5))\n",
    "\n",
    "# Check for null values in the text column\n",
    "null_count = df['text'].isna().sum()\n",
    "print(f\"\\nNumber of null values in text column: {null_count}\")\n",
    "\n",
    "# Drop rows with NaN values in the text column\n",
    "df = df.dropna(subset=['text'])\n",
    "print(f\"Dataset shape after removing null values: {df.shape}\")\n"
   ]
  },
  {
   "cell_type": "code",
   "execution_count": 4,
   "metadata": {},
   "outputs": [
    {
     "name": "stdout",
     "output_type": "stream",
     "text": [
      "\n",
      "Training data size: 59196\n",
      "Testing data size: 14800\n"
     ]
    }
   ],
   "source": [
    "# Split data into training and testing sets\n",
    "X_train, X_test, y_train, y_test = train_test_split(\n",
    "    df['text'], df['label'], test_size=0.2, random_state=42\n",
    ")\n",
    "print(f\"\\nTraining data size: {X_train.shape[0]}\")\n",
    "print(f\"Testing data size: {X_test.shape[0]}\")\n"
   ]
  },
  {
   "cell_type": "code",
   "execution_count": 5,
   "metadata": {},
   "outputs": [
    {
     "name": "stdout",
     "output_type": "stream",
     "text": [
      "\n",
      "--- Model 1: Basic CountVectorizer + MultinomialNB ---\n",
      "Accuracy: 0.7495\n",
      "\n",
      "Classification Report:\n",
      "              precision    recall  f1-score   support\n",
      "\n",
      "  Irrelevant       0.84      0.62      0.71      2696\n",
      "    Negative       0.70      0.86      0.77      4380\n",
      "     Neutral       0.83      0.63      0.72      3605\n",
      "    Positive       0.72      0.82      0.77      4119\n",
      "\n",
      "    accuracy                           0.75     14800\n",
      "   macro avg       0.77      0.73      0.74     14800\n",
      "weighted avg       0.76      0.75      0.75     14800\n",
      "\n",
      "\n",
      "Confusion Matrix:\n",
      "[[1665  494  100  437]\n",
      " [  78 3774  180  348]\n",
      " [ 143  642 2264  556]\n",
      " [  89  459  181 3390]]\n"
     ]
    }
   ],
   "source": [
    "# 1. Basic Model with CountVectorizer\n",
    "print(\"\\n--- Model 1: Basic CountVectorizer + MultinomialNB ---\")\n",
    "count_vectorizer = CountVectorizer()\n",
    "X_train_counts = count_vectorizer.fit_transform(X_train)\n",
    "X_test_counts = count_vectorizer.transform(X_test)\n",
    "\n",
    "nb_classifier = MultinomialNB()\n",
    "nb_classifier.fit(X_train_counts, y_train)\n",
    "\n",
    "# Evaluate basic model\n",
    "y_pred = nb_classifier.predict(X_test_counts)\n",
    "accuracy = accuracy_score(y_test, y_pred)\n",
    "print(f\"Accuracy: {accuracy:.4f}\")\n",
    "print(\"\\nClassification Report:\")\n",
    "print(classification_report(y_test, y_pred))\n",
    "print(\"\\nConfusion Matrix:\")\n",
    "print(confusion_matrix(y_test, y_pred))\n",
    "\n",
    "\n"
   ]
  },
  {
   "cell_type": "code",
   "execution_count": 6,
   "metadata": {},
   "outputs": [
    {
     "name": "stdout",
     "output_type": "stream",
     "text": [
      "\n",
      "--- Model 2: TF-IDF Vectorizer with Parameter Tuning ---\n",
      "Fitting 5 folds for each of 24 candidates, totalling 120 fits\n"
     ]
    },
    {
     "data": {
      "text/html": [
       "<style>#sk-container-id-1 {color: black;background-color: white;}#sk-container-id-1 pre{padding: 0;}#sk-container-id-1 div.sk-toggleable {background-color: white;}#sk-container-id-1 label.sk-toggleable__label {cursor: pointer;display: block;width: 100%;margin-bottom: 0;padding: 0.3em;box-sizing: border-box;text-align: center;}#sk-container-id-1 label.sk-toggleable__label-arrow:before {content: \"▸\";float: left;margin-right: 0.25em;color: #696969;}#sk-container-id-1 label.sk-toggleable__label-arrow:hover:before {color: black;}#sk-container-id-1 div.sk-estimator:hover label.sk-toggleable__label-arrow:before {color: black;}#sk-container-id-1 div.sk-toggleable__content {max-height: 0;max-width: 0;overflow: hidden;text-align: left;background-color: #f0f8ff;}#sk-container-id-1 div.sk-toggleable__content pre {margin: 0.2em;color: black;border-radius: 0.25em;background-color: #f0f8ff;}#sk-container-id-1 input.sk-toggleable__control:checked~div.sk-toggleable__content {max-height: 200px;max-width: 100%;overflow: auto;}#sk-container-id-1 input.sk-toggleable__control:checked~label.sk-toggleable__label-arrow:before {content: \"▾\";}#sk-container-id-1 div.sk-estimator input.sk-toggleable__control:checked~label.sk-toggleable__label {background-color: #d4ebff;}#sk-container-id-1 div.sk-label input.sk-toggleable__control:checked~label.sk-toggleable__label {background-color: #d4ebff;}#sk-container-id-1 input.sk-hidden--visually {border: 0;clip: rect(1px 1px 1px 1px);clip: rect(1px, 1px, 1px, 1px);height: 1px;margin: -1px;overflow: hidden;padding: 0;position: absolute;width: 1px;}#sk-container-id-1 div.sk-estimator {font-family: monospace;background-color: #f0f8ff;border: 1px dotted black;border-radius: 0.25em;box-sizing: border-box;margin-bottom: 0.5em;}#sk-container-id-1 div.sk-estimator:hover {background-color: #d4ebff;}#sk-container-id-1 div.sk-parallel-item::after {content: \"\";width: 100%;border-bottom: 1px solid gray;flex-grow: 1;}#sk-container-id-1 div.sk-label:hover label.sk-toggleable__label {background-color: #d4ebff;}#sk-container-id-1 div.sk-serial::before {content: \"\";position: absolute;border-left: 1px solid gray;box-sizing: border-box;top: 0;bottom: 0;left: 50%;z-index: 0;}#sk-container-id-1 div.sk-serial {display: flex;flex-direction: column;align-items: center;background-color: white;padding-right: 0.2em;padding-left: 0.2em;position: relative;}#sk-container-id-1 div.sk-item {position: relative;z-index: 1;}#sk-container-id-1 div.sk-parallel {display: flex;align-items: stretch;justify-content: center;background-color: white;position: relative;}#sk-container-id-1 div.sk-item::before, #sk-container-id-1 div.sk-parallel-item::before {content: \"\";position: absolute;border-left: 1px solid gray;box-sizing: border-box;top: 0;bottom: 0;left: 50%;z-index: -1;}#sk-container-id-1 div.sk-parallel-item {display: flex;flex-direction: column;z-index: 1;position: relative;background-color: white;}#sk-container-id-1 div.sk-parallel-item:first-child::after {align-self: flex-end;width: 50%;}#sk-container-id-1 div.sk-parallel-item:last-child::after {align-self: flex-start;width: 50%;}#sk-container-id-1 div.sk-parallel-item:only-child::after {width: 0;}#sk-container-id-1 div.sk-dashed-wrapped {border: 1px dashed gray;margin: 0 0.4em 0.5em 0.4em;box-sizing: border-box;padding-bottom: 0.4em;background-color: white;}#sk-container-id-1 div.sk-label label {font-family: monospace;font-weight: bold;display: inline-block;line-height: 1.2em;}#sk-container-id-1 div.sk-label-container {text-align: center;}#sk-container-id-1 div.sk-container {/* jupyter's `normalize.less` sets `[hidden] { display: none; }` but bootstrap.min.css set `[hidden] { display: none !important; }` so we also need the `!important` here to be able to override the default hidden behavior on the sphinx rendered scikit-learn.org. See: https://github.com/scikit-learn/scikit-learn/issues/21755 */display: inline-block !important;position: relative;}#sk-container-id-1 div.sk-text-repr-fallback {display: none;}</style><div id=\"sk-container-id-1\" class=\"sk-top-container\"><div class=\"sk-text-repr-fallback\"><pre>GridSearchCV(cv=5,\n",
       "             estimator=Pipeline(steps=[(&#x27;tfidf&#x27;, TfidfVectorizer()),\n",
       "                                       (&#x27;classifier&#x27;, MultinomialNB())]),\n",
       "             param_grid={&#x27;classifier__alpha&#x27;: [0.1, 0.5, 1.0],\n",
       "                         &#x27;tfidf__max_features&#x27;: [5000, 10000],\n",
       "                         &#x27;tfidf__min_df&#x27;: [2, 5],\n",
       "                         &#x27;tfidf__ngram_range&#x27;: [(1, 1), (1, 2)]},\n",
       "             scoring=&#x27;accuracy&#x27;, verbose=1)</pre><b>In a Jupyter environment, please rerun this cell to show the HTML representation or trust the notebook. <br />On GitHub, the HTML representation is unable to render, please try loading this page with nbviewer.org.</b></div><div class=\"sk-container\" hidden><div class=\"sk-item sk-dashed-wrapped\"><div class=\"sk-label-container\"><div class=\"sk-label sk-toggleable\"><input class=\"sk-toggleable__control sk-hidden--visually\" id=\"sk-estimator-id-1\" type=\"checkbox\" ><label for=\"sk-estimator-id-1\" class=\"sk-toggleable__label sk-toggleable__label-arrow\">GridSearchCV</label><div class=\"sk-toggleable__content\"><pre>GridSearchCV(cv=5,\n",
       "             estimator=Pipeline(steps=[(&#x27;tfidf&#x27;, TfidfVectorizer()),\n",
       "                                       (&#x27;classifier&#x27;, MultinomialNB())]),\n",
       "             param_grid={&#x27;classifier__alpha&#x27;: [0.1, 0.5, 1.0],\n",
       "                         &#x27;tfidf__max_features&#x27;: [5000, 10000],\n",
       "                         &#x27;tfidf__min_df&#x27;: [2, 5],\n",
       "                         &#x27;tfidf__ngram_range&#x27;: [(1, 1), (1, 2)]},\n",
       "             scoring=&#x27;accuracy&#x27;, verbose=1)</pre></div></div></div><div class=\"sk-parallel\"><div class=\"sk-parallel-item\"><div class=\"sk-item\"><div class=\"sk-label-container\"><div class=\"sk-label sk-toggleable\"><input class=\"sk-toggleable__control sk-hidden--visually\" id=\"sk-estimator-id-2\" type=\"checkbox\" ><label for=\"sk-estimator-id-2\" class=\"sk-toggleable__label sk-toggleable__label-arrow\">estimator: Pipeline</label><div class=\"sk-toggleable__content\"><pre>Pipeline(steps=[(&#x27;tfidf&#x27;, TfidfVectorizer()), (&#x27;classifier&#x27;, MultinomialNB())])</pre></div></div></div><div class=\"sk-serial\"><div class=\"sk-item\"><div class=\"sk-serial\"><div class=\"sk-item\"><div class=\"sk-estimator sk-toggleable\"><input class=\"sk-toggleable__control sk-hidden--visually\" id=\"sk-estimator-id-3\" type=\"checkbox\" ><label for=\"sk-estimator-id-3\" class=\"sk-toggleable__label sk-toggleable__label-arrow\">TfidfVectorizer</label><div class=\"sk-toggleable__content\"><pre>TfidfVectorizer()</pre></div></div></div><div class=\"sk-item\"><div class=\"sk-estimator sk-toggleable\"><input class=\"sk-toggleable__control sk-hidden--visually\" id=\"sk-estimator-id-4\" type=\"checkbox\" ><label for=\"sk-estimator-id-4\" class=\"sk-toggleable__label sk-toggleable__label-arrow\">MultinomialNB</label><div class=\"sk-toggleable__content\"><pre>MultinomialNB()</pre></div></div></div></div></div></div></div></div></div></div></div></div>"
      ],
      "text/plain": [
       "GridSearchCV(cv=5,\n",
       "             estimator=Pipeline(steps=[('tfidf', TfidfVectorizer()),\n",
       "                                       ('classifier', MultinomialNB())]),\n",
       "             param_grid={'classifier__alpha': [0.1, 0.5, 1.0],\n",
       "                         'tfidf__max_features': [5000, 10000],\n",
       "                         'tfidf__min_df': [2, 5],\n",
       "                         'tfidf__ngram_range': [(1, 1), (1, 2)]},\n",
       "             scoring='accuracy', verbose=1)"
      ]
     },
     "execution_count": 6,
     "metadata": {},
     "output_type": "execute_result"
    }
   ],
   "source": [
    "# 2. Advanced Model with TF-IDF and parameter tuning\n",
    "print(\"\\n--- Model 2: TF-IDF Vectorizer with Parameter Tuning ---\")\n",
    "# Create a pipeline\n",
    "pipeline = Pipeline([\n",
    "    ('tfidf', TfidfVectorizer()),\n",
    "    ('classifier', MultinomialNB())\n",
    "])\n",
    "\n",
    "# Parameter grid for grid search\n",
    "param_grid = {\n",
    "    'tfidf__max_features': [5000, 10000],\n",
    "    'tfidf__ngram_range': [(1, 1), (1, 2)],\n",
    "    'tfidf__min_df': [2, 5],\n",
    "    'classifier__alpha': [0.1, 0.5, 1.0]\n",
    "}\n",
    "\n",
    "# Grid search for optimal parameters\n",
    "grid_search = GridSearchCV(\n",
    "    pipeline, param_grid, cv=5, scoring='accuracy', verbose=1\n",
    ")\n",
    "grid_search.fit(X_train, y_train)\n"
   ]
  },
  {
   "cell_type": "code",
   "execution_count": 7,
   "metadata": {},
   "outputs": [
    {
     "name": "stdout",
     "output_type": "stream",
     "text": [
      "\n",
      "Best parameters: {'classifier__alpha': 0.1, 'tfidf__max_features': 10000, 'tfidf__min_df': 2, 'tfidf__ngram_range': (1, 1)}\n",
      "Best cross-validation accuracy: 0.7032\n",
      "\n",
      "Test accuracy with best model: 0.7005\n",
      "\n",
      "Classification Report:\n",
      "              precision    recall  f1-score   support\n",
      "\n",
      "  Irrelevant       0.82      0.47      0.60      2696\n",
      "    Negative       0.67      0.84      0.75      4380\n",
      "     Neutral       0.74      0.60      0.67      3605\n",
      "    Positive       0.67      0.79      0.72      4119\n",
      "\n",
      "    accuracy                           0.70     14800\n",
      "   macro avg       0.73      0.68      0.68     14800\n",
      "weighted avg       0.72      0.70      0.69     14800\n",
      "\n",
      "\n",
      "Confusion Matrix:\n",
      "[[1270  579  246  601]\n",
      " [  64 3678  250  388]\n",
      " [ 124  669 2174  638]\n",
      " [  92  524  257 3246]]\n",
      "\n",
      "--- Testing with Custom Input Examples ---\n",
      "\n",
      "Custom Input Predictions:\n",
      "Text: 'I love this product, it's amazing!'\n",
      "Predicted sentiment: Positive\n",
      "\n",
      "Text: 'This is the worst experience ever'\n",
      "Predicted sentiment: Negative\n",
      "\n",
      "Text: 'The movie was okay, nothing special'\n",
      "Predicted sentiment: Positive\n",
      "\n",
      "Text: 'I'm feeling happy today'\n",
      "Predicted sentiment: Positive\n",
      "\n",
      "Text: 'This made me very angry and disappointed'\n",
      "Predicted sentiment: Negative\n",
      "\n",
      "\n",
      "--- Interactive Sentiment Analysis ---\n",
      "Sentiment: Positive\n",
      "Confidence: 42.34%\n",
      "Sentiment: Positive\n",
      "Confidence: 42.34%\n",
      "Sentiment: Negative\n",
      "Confidence: 53.92%\n",
      "Sentiment: Negative\n",
      "Confidence: 33.00%\n",
      "Sentiment: Positive\n",
      "Confidence: 44.30%\n",
      "Sentiment: Positive\n",
      "Confidence: 27.23%\n"
     ]
    }
   ],
   "source": [
    "# Print best parameters and score\n",
    "print(f\"\\nBest parameters: {grid_search.best_params_}\")\n",
    "print(f\"Best cross-validation accuracy: {grid_search.best_score_:.4f}\")\n",
    "\n",
    "# Evaluate best model\n",
    "best_model = grid_search.best_estimator_\n",
    "y_pred_best = best_model.predict(X_test)\n",
    "accuracy_best = accuracy_score(y_test, y_pred_best)\n",
    "print(f\"\\nTest accuracy with best model: {accuracy_best:.4f}\")\n",
    "print(\"\\nClassification Report:\")\n",
    "print(classification_report(y_test, y_pred_best))\n",
    "print(\"\\nConfusion Matrix:\")\n",
    "print(confusion_matrix(y_test, y_pred_best))\n",
    "\n",
    "# 3. Testing with custom input examples\n",
    "print(\"\\n--- Testing with Custom Input Examples ---\")\n",
    "examples = [\n",
    "    \"I love this product, it's amazing!\",\n",
    "    \"This is the worst experience ever\",\n",
    "    \"The movie was okay, nothing special\",\n",
    "    \"I'm feeling happy today\",\n",
    "    \"This made me very angry and disappointed\"\n",
    "]\n",
    "\n",
    "# Get predictions using the best model\n",
    "predictions = best_model.predict(examples)\n",
    "\n",
    "# Show results\n",
    "print(\"\\nCustom Input Predictions:\")\n",
    "for example, prediction in zip(examples, predictions):\n",
    "    print(f\"Text: '{example}'\")\n",
    "    print(f\"Predicted sentiment: {prediction}\")\n",
    "    print()\n",
    "\n",
    "# Allow for interactive input\n",
    "print(\"\\n--- Interactive Sentiment Analysis ---\")\n",
    "while True:\n",
    "    user_input = input(\"\\nEnter text for sentiment analysis (or 'quit' to exit): \")\n",
    "    if user_input.lower() == 'quit':\n",
    "        break\n",
    "    \n",
    "    # Predict sentiment\n",
    "    sentiment = best_model.predict([user_input])[0]\n",
    "    probability = np.max(best_model.predict_proba([user_input])) * 100\n",
    "    \n",
    "    print(f\"Sentiment: {sentiment}\")\n",
    "    print(f\"Confidence: {probability:.2f}%\")"
   ]
  }
 ],
 "metadata": {
  "kernelspec": {
   "display_name": "Python 3",
   "language": "python",
   "name": "python3"
  },
  "language_info": {
   "codemirror_mode": {
    "name": "ipython",
    "version": 3
   },
   "file_extension": ".py",
   "mimetype": "text/x-python",
   "name": "python",
   "nbconvert_exporter": "python",
   "pygments_lexer": "ipython3",
   "version": "3.10.11"
  }
 },
 "nbformat": 4,
 "nbformat_minor": 2
}
